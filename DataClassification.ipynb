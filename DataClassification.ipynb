{
 "cells": [
  {
   "cell_type": "code",
   "execution_count": 24,
   "metadata": {
    "collapsed": true,
    "ExecuteTime": {
     "start_time": "2023-05-19T08:58:27.674077Z",
     "end_time": "2023-05-19T08:58:27.695075Z"
    }
   },
   "outputs": [],
   "source": [
    "import jieba  # 分词包\n",
    "import matplotlib.pyplot as plt  # 数据可视化\n",
    "import pandas as pd  # 数据分析\n",
    "import seaborn as sns  # 数据可视化\n",
    "from sklearn.feature_extraction.text import CountVectorizer  # 特征提取\n",
    "from sklearn.model_selection import train_test_split  # 数据集划分\n",
    "from sklearn.metrics import confusion_matrix  # 混淆矩阵\n",
    "# 定义朴素贝叶斯模型，然后对训练集进行模型训练，直接使用 sklearn 中的 MultinomialNB\n",
    "from sklearn.naive_bayes import MultinomialNB\n",
    "import warnings  # 忽略警告\n",
    "import random  # 随机数\n",
    "plt.rcParams['font.sans-serif'] = ['SimHei']  # 用来正常显示中文标签\n",
    "plt.rcParams['axes.unicode_minus'] = False  # 解决保存图像是负号'-'显示为方块的问题\n",
    "warnings.filterwarnings(\"ignore\")  # 忽略警告"
   ]
  },
  {
   "cell_type": "code",
   "execution_count": 2,
   "outputs": [],
   "source": [
    "# 加载停用词\n",
    "stopwords = pd.read_csv('data\\\\stopwords.txt', index_col=False, quoting=3, sep=\"\\t\", names=['stopword'], encoding='utf-8')\n",
    "stopwords = stopwords['stopword'].values"
   ],
   "metadata": {
    "collapsed": false,
    "ExecuteTime": {
     "start_time": "2023-05-19T07:53:39.668342Z",
     "end_time": "2023-05-19T07:53:39.697363Z"
    }
   }
  },
  {
   "cell_type": "code",
   "execution_count": 3,
   "outputs": [
    {
     "data": {
      "text/plain": "   Unnamed: 0                                            content  labels\n0           0  你真的红了很开心内场票也可以卖到虽然以前就能听你的越来越听不起你的演唱会不过没关系我会努力变...       1\n1           1  我是一位土生土长的成都姑娘所有成都的回忆都汇成这首歌喜欢赵雷已经三年了年第一次在沈阳看赵雷演...       7\n2           2                         为什么你们成都有成都我们石家庄就只能杀死那个石家庄人       2\n3           3  当初一首郝云的去大理然我义无反顾的背起行囊去了云南现在听到赵雷的成都好吧我正在定机票那么多年...       7\n4           4  我是安徽人高考填志愿我一本我女朋友二本为了能和她在一起我降分到二本和她一起来到了成都不管选择...       6",
      "text/html": "<div>\n<style scoped>\n    .dataframe tbody tr th:only-of-type {\n        vertical-align: middle;\n    }\n\n    .dataframe tbody tr th {\n        vertical-align: top;\n    }\n\n    .dataframe thead th {\n        text-align: right;\n    }\n</style>\n<table border=\"1\" class=\"dataframe\">\n  <thead>\n    <tr style=\"text-align: right;\">\n      <th></th>\n      <th>Unnamed: 0</th>\n      <th>content</th>\n      <th>labels</th>\n    </tr>\n  </thead>\n  <tbody>\n    <tr>\n      <th>0</th>\n      <td>0</td>\n      <td>你真的红了很开心内场票也可以卖到虽然以前就能听你的越来越听不起你的演唱会不过没关系我会努力变...</td>\n      <td>1</td>\n    </tr>\n    <tr>\n      <th>1</th>\n      <td>1</td>\n      <td>我是一位土生土长的成都姑娘所有成都的回忆都汇成这首歌喜欢赵雷已经三年了年第一次在沈阳看赵雷演...</td>\n      <td>7</td>\n    </tr>\n    <tr>\n      <th>2</th>\n      <td>2</td>\n      <td>为什么你们成都有成都我们石家庄就只能杀死那个石家庄人</td>\n      <td>2</td>\n    </tr>\n    <tr>\n      <th>3</th>\n      <td>3</td>\n      <td>当初一首郝云的去大理然我义无反顾的背起行囊去了云南现在听到赵雷的成都好吧我正在定机票那么多年...</td>\n      <td>7</td>\n    </tr>\n    <tr>\n      <th>4</th>\n      <td>4</td>\n      <td>我是安徽人高考填志愿我一本我女朋友二本为了能和她在一起我降分到二本和她一起来到了成都不管选择...</td>\n      <td>6</td>\n    </tr>\n  </tbody>\n</table>\n</div>"
     },
     "execution_count": 3,
     "metadata": {},
     "output_type": "execute_result"
    }
   ],
   "source": [
    "# 加载语料\n",
    "music_df = pd.read_csv('data\\\\labels.csv', encoding='utf-8')\n",
    "music_df.head()"
   ],
   "metadata": {
    "collapsed": false,
    "ExecuteTime": {
     "start_time": "2023-05-19T07:53:39.699363Z",
     "end_time": "2023-05-19T07:53:39.760591Z"
    }
   }
  },
  {
   "cell_type": "code",
   "execution_count": 4,
   "outputs": [],
   "source": [
    "#定义分词和打标签函数preprocess_text\n",
    "#参数content_lines即为上面转换的list\n",
    "#参数sentences是定义的空list，用来储存打标签之后的数据\n",
    "def preprocess_text(content_lines, sentences):\n",
    "    for line in content_lines:\n",
    "        segs = jieba.lcut(line)\n",
    "        segs = [v for v in segs if not str(v).isdigit()]  #去数字\n",
    "        segs = list(filter(lambda x: x.strip(), segs))  #去左右空格\n",
    "        segs = list(filter(lambda x: len(x) > 1, segs))  #长度为1的字符\n",
    "        segs = list(filter(lambda x: x not in stopwords, segs))  #去掉停用词\n",
    "        sentences.append((\" \".join(segs)))  # 打标签"
   ],
   "metadata": {
    "collapsed": false,
    "ExecuteTime": {
     "start_time": "2023-05-19T07:53:39.762593Z",
     "end_time": "2023-05-19T07:53:39.795639Z"
    }
   }
  },
  {
   "cell_type": "code",
   "execution_count": 5,
   "outputs": [
    {
     "name": "stderr",
     "output_type": "stream",
     "text": [
      "Building prefix dict from the default dictionary ...\n",
      "Dumping model to file cache C:\\Users\\24835\\AppData\\Local\\Temp\\jieba.cache\n",
      "Loading model cost 0.561 seconds.\n",
      "Prefix dict has been built successfully.\n"
     ]
    }
   ],
   "source": [
    "# 转换\n",
    "music = music_df['content'].tolist()\n",
    "#调用函数，生成训练集\n",
    "sentences = []\n",
    "preprocess_text(music, sentences)\n",
    "random.shuffle(sentences)"
   ],
   "metadata": {
    "collapsed": false,
    "ExecuteTime": {
     "start_time": "2023-05-19T07:53:39.779643Z",
     "end_time": "2023-05-19T07:53:48.037690Z"
    }
   }
  },
  {
   "cell_type": "code",
   "execution_count": 6,
   "outputs": [],
   "source": [
    "# 删除语料的nan行\n",
    "music_df.dropna(inplace=True)\n",
    "content = music_df['content'].tolist()\n",
    "labels = music_df['labels'].tolist()"
   ],
   "metadata": {
    "collapsed": false,
    "ExecuteTime": {
     "start_time": "2023-05-19T07:53:48.039672Z",
     "end_time": "2023-05-19T07:53:48.051673Z"
    }
   }
  },
  {
   "cell_type": "code",
   "execution_count": 7,
   "outputs": [],
   "source": [
    "#调用函数、生成训练数据\n",
    "#参数df2是类型标签\n",
    "sentences = []\n",
    "preprocess_text(content, sentences)\n",
    "sentences = list(zip(sentences, labels))"
   ],
   "metadata": {
    "collapsed": false,
    "ExecuteTime": {
     "start_time": "2023-05-19T07:53:48.053675Z",
     "end_time": "2023-05-19T07:53:55.658678Z"
    }
   }
  },
  {
   "cell_type": "code",
   "execution_count": 8,
   "outputs": [
    {
     "name": "stdout",
     "output_type": "stream",
     "text": [
      "开心 内场 越来越 听不起 演唱会 没关系 我会 努力 变得 民谣 值得 难过 日子 普通人 想要 买房 结婚 姑娘 赵雷 1\n",
      "一位 土生土长 成都 姑娘 成都 回忆 汇成 喜欢 赵雷 三年 第一次 沈阳 赵雷 演出 大二 满满的 对家 回忆 男朋友 日子 迷笛 草莓 赵雷 现场 昆明 研究生 成都 工作 成都 领证 7\n",
      "成都 成都 石家庄 只能 杀死 石家庄 2\n",
      "当初 一首 郝云 大理 义无反顾 背起 行囊 云南 听到 赵雷 成都 机票 多年 听的歌 腾格尔 天堂 7\n",
      "安徽 高考 填志愿 一本 女朋友 二本 我降 分到 二本 来到 成都 选择 至少 后悔 喜欢 城市 喜欢 成都 那种 情怀 听到 总有 一小块 地方 触动 五年 6\n",
      "年前 成都 大学 七年 大学毕业 含泪 分手 五年 两年 五年 互相联系 情况 结束 失败 婚姻 一年 毫不犹豫 抓紧 再也 放弃 两个 结婚 成都 留下 爱情 2\n",
      "靠靠 终于 开曲 两秒钟 尖叫 1\n",
      "第一次 成都 音质 不清 版本 女生 四川 口音 吃火锅 成都 微博上 钢琴 纯净 版短 难忘 第三版 成都 时光 西安 演唱会 打开 手电筒 副歌 旋律 重复 星空 闪耀 公车 很挤 音乐 拯救 一刻 最终 成都 8\n",
      "喜欢 街头 酒吧 草地 青岛 大海 对面 这首 熟悉 歌谣 个中滋味 体会 踏上 一段 美妙 搭车 民谣 旅行 期待 成都 相遇 成都 街头 哼唱 把手 揣进 裤兜 坐在 小酒馆 门口 一个个 静静的 消失 灯光 尽头 选择 人生 6\n",
      "一首歌 怀念 一座 天府广场 武侯祠 锦里 杜甫 草堂 青羊宫 春熙路 宽窄 巷子 昭觉寺 文殊院 回忆 1\n",
      "四川 三年 听过 三年 离开 四川 听到 位置 触动 喜欢 歌词 喜欢 旋律 循环 播放 好久好久 现场版 成都 成都 成都 0\n",
      "喜欢 成都 阴晴不定 天气 小雨 绵绵 喜欢 成都 喜欢 随处可见 火锅店 小吃 喜欢 每月 小酒馆 现场 大三 毕业 也许 离开 成都 成都 一场 雷子 演唱会 感觉 完美 成都 成都 成都 0\n",
      "李志爱 南京 赵雷爱 成都 路上 故乡 和解 歌唱 好好 活着 有用 2\n",
      "反复 不厌 现场 前些天 电台 算是 赵雷 崇敬 朋友 几天 成都 推荐 感动 成都 街道 转转 深秋 刚来 夜里 感觉 听到 版本 4\n",
      "一位 江苏 男孩 一位 成都 女孩 喜欢 女孩 喜欢 异地 喜欢 男孩 异地 恋天 原谅 男孩 成都 男孩 0\n",
      "奶常扇 赵子龙 1\n",
      "对不起 学习 学好 工作 做好 白活 好多年 1\n",
      "回到 第一次 那天 1\n",
      "身在 异乡 成都 眼泪 眼角 滴下 成都 深沉 2\n",
      "核桃树 金银花 打卡 1\n"
     ]
    }
   ],
   "source": [
    "for sentence in sentences[:20]:\n",
    "    print(sentence[0], sentence[1])  #下标0是词列表，1是标签"
   ],
   "metadata": {
    "collapsed": false,
    "ExecuteTime": {
     "start_time": "2023-05-19T07:53:55.659679Z",
     "end_time": "2023-05-19T07:53:55.675680Z"
    }
   }
  },
  {
   "cell_type": "code",
   "execution_count": 9,
   "outputs": [],
   "source": [
    "vec = CountVectorizer(\n",
    "    analyzer='word',  # tokenise by character ngrams\n",
    "    max_features=23,  # keep the most common 1000 ngrams\n",
    ")"
   ],
   "metadata": {
    "collapsed": false,
    "ExecuteTime": {
     "start_time": "2023-05-19T07:53:55.677684Z",
     "end_time": "2023-05-19T07:53:55.734679Z"
    }
   }
  },
  {
   "cell_type": "code",
   "execution_count": 10,
   "outputs": [
    {
     "data": {
      "text/plain": "15000"
     },
     "execution_count": 10,
     "metadata": {},
     "output_type": "execute_result"
    }
   ],
   "source": [
    "x, y = zip(*sentences)\n",
    "x_train, x_test, y_train, y_test = train_test_split(x, y, random_state=42)\n",
    "len(x_train)"
   ],
   "metadata": {
    "collapsed": false,
    "ExecuteTime": {
     "start_time": "2023-05-19T07:53:55.691682Z",
     "end_time": "2023-05-19T07:53:55.741678Z"
    }
   }
  },
  {
   "cell_type": "code",
   "execution_count": 11,
   "outputs": [
    {
     "data": {
      "text/plain": "CountVectorizer(max_features=23)",
      "text/html": "<style>#sk-container-id-1 {color: black;background-color: white;}#sk-container-id-1 pre{padding: 0;}#sk-container-id-1 div.sk-toggleable {background-color: white;}#sk-container-id-1 label.sk-toggleable__label {cursor: pointer;display: block;width: 100%;margin-bottom: 0;padding: 0.3em;box-sizing: border-box;text-align: center;}#sk-container-id-1 label.sk-toggleable__label-arrow:before {content: \"▸\";float: left;margin-right: 0.25em;color: #696969;}#sk-container-id-1 label.sk-toggleable__label-arrow:hover:before {color: black;}#sk-container-id-1 div.sk-estimator:hover label.sk-toggleable__label-arrow:before {color: black;}#sk-container-id-1 div.sk-toggleable__content {max-height: 0;max-width: 0;overflow: hidden;text-align: left;background-color: #f0f8ff;}#sk-container-id-1 div.sk-toggleable__content pre {margin: 0.2em;color: black;border-radius: 0.25em;background-color: #f0f8ff;}#sk-container-id-1 input.sk-toggleable__control:checked~div.sk-toggleable__content {max-height: 200px;max-width: 100%;overflow: auto;}#sk-container-id-1 input.sk-toggleable__control:checked~label.sk-toggleable__label-arrow:before {content: \"▾\";}#sk-container-id-1 div.sk-estimator input.sk-toggleable__control:checked~label.sk-toggleable__label {background-color: #d4ebff;}#sk-container-id-1 div.sk-label input.sk-toggleable__control:checked~label.sk-toggleable__label {background-color: #d4ebff;}#sk-container-id-1 input.sk-hidden--visually {border: 0;clip: rect(1px 1px 1px 1px);clip: rect(1px, 1px, 1px, 1px);height: 1px;margin: -1px;overflow: hidden;padding: 0;position: absolute;width: 1px;}#sk-container-id-1 div.sk-estimator {font-family: monospace;background-color: #f0f8ff;border: 1px dotted black;border-radius: 0.25em;box-sizing: border-box;margin-bottom: 0.5em;}#sk-container-id-1 div.sk-estimator:hover {background-color: #d4ebff;}#sk-container-id-1 div.sk-parallel-item::after {content: \"\";width: 100%;border-bottom: 1px solid gray;flex-grow: 1;}#sk-container-id-1 div.sk-label:hover label.sk-toggleable__label {background-color: #d4ebff;}#sk-container-id-1 div.sk-serial::before {content: \"\";position: absolute;border-left: 1px solid gray;box-sizing: border-box;top: 0;bottom: 0;left: 50%;z-index: 0;}#sk-container-id-1 div.sk-serial {display: flex;flex-direction: column;align-items: center;background-color: white;padding-right: 0.2em;padding-left: 0.2em;position: relative;}#sk-container-id-1 div.sk-item {position: relative;z-index: 1;}#sk-container-id-1 div.sk-parallel {display: flex;align-items: stretch;justify-content: center;background-color: white;position: relative;}#sk-container-id-1 div.sk-item::before, #sk-container-id-1 div.sk-parallel-item::before {content: \"\";position: absolute;border-left: 1px solid gray;box-sizing: border-box;top: 0;bottom: 0;left: 50%;z-index: -1;}#sk-container-id-1 div.sk-parallel-item {display: flex;flex-direction: column;z-index: 1;position: relative;background-color: white;}#sk-container-id-1 div.sk-parallel-item:first-child::after {align-self: flex-end;width: 50%;}#sk-container-id-1 div.sk-parallel-item:last-child::after {align-self: flex-start;width: 50%;}#sk-container-id-1 div.sk-parallel-item:only-child::after {width: 0;}#sk-container-id-1 div.sk-dashed-wrapped {border: 1px dashed gray;margin: 0 0.4em 0.5em 0.4em;box-sizing: border-box;padding-bottom: 0.4em;background-color: white;}#sk-container-id-1 div.sk-label label {font-family: monospace;font-weight: bold;display: inline-block;line-height: 1.2em;}#sk-container-id-1 div.sk-label-container {text-align: center;}#sk-container-id-1 div.sk-container {/* jupyter's `normalize.less` sets `[hidden] { display: none; }` but bootstrap.min.css set `[hidden] { display: none !important; }` so we also need the `!important` here to be able to override the default hidden behavior on the sphinx rendered scikit-learn.org. See: https://github.com/scikit-learn/scikit-learn/issues/21755 */display: inline-block !important;position: relative;}#sk-container-id-1 div.sk-text-repr-fallback {display: none;}</style><div id=\"sk-container-id-1\" class=\"sk-top-container\"><div class=\"sk-text-repr-fallback\"><pre>CountVectorizer(max_features=23)</pre><b>In a Jupyter environment, please rerun this cell to show the HTML representation or trust the notebook. <br />On GitHub, the HTML representation is unable to render, please try loading this page with nbviewer.org.</b></div><div class=\"sk-container\" hidden><div class=\"sk-item\"><div class=\"sk-estimator sk-toggleable\"><input class=\"sk-toggleable__control sk-hidden--visually\" id=\"sk-estimator-id-1\" type=\"checkbox\" checked><label for=\"sk-estimator-id-1\" class=\"sk-toggleable__label sk-toggleable__label-arrow\">CountVectorizer</label><div class=\"sk-toggleable__content\"><pre>CountVectorizer(max_features=23)</pre></div></div></div></div></div>"
     },
     "execution_count": 11,
     "metadata": {},
     "output_type": "execute_result"
    }
   ],
   "source": [
    "#把训练数据转换为词袋模型：\n",
    "vec.fit(x_train)"
   ],
   "metadata": {
    "collapsed": false,
    "ExecuteTime": {
     "start_time": "2023-05-19T07:53:55.706679Z",
     "end_time": "2023-05-19T07:53:55.814680Z"
    }
   }
  },
  {
   "cell_type": "code",
   "execution_count": 12,
   "outputs": [
    {
     "data": {
      "text/plain": "MultinomialNB()",
      "text/html": "<style>#sk-container-id-2 {color: black;background-color: white;}#sk-container-id-2 pre{padding: 0;}#sk-container-id-2 div.sk-toggleable {background-color: white;}#sk-container-id-2 label.sk-toggleable__label {cursor: pointer;display: block;width: 100%;margin-bottom: 0;padding: 0.3em;box-sizing: border-box;text-align: center;}#sk-container-id-2 label.sk-toggleable__label-arrow:before {content: \"▸\";float: left;margin-right: 0.25em;color: #696969;}#sk-container-id-2 label.sk-toggleable__label-arrow:hover:before {color: black;}#sk-container-id-2 div.sk-estimator:hover label.sk-toggleable__label-arrow:before {color: black;}#sk-container-id-2 div.sk-toggleable__content {max-height: 0;max-width: 0;overflow: hidden;text-align: left;background-color: #f0f8ff;}#sk-container-id-2 div.sk-toggleable__content pre {margin: 0.2em;color: black;border-radius: 0.25em;background-color: #f0f8ff;}#sk-container-id-2 input.sk-toggleable__control:checked~div.sk-toggleable__content {max-height: 200px;max-width: 100%;overflow: auto;}#sk-container-id-2 input.sk-toggleable__control:checked~label.sk-toggleable__label-arrow:before {content: \"▾\";}#sk-container-id-2 div.sk-estimator input.sk-toggleable__control:checked~label.sk-toggleable__label {background-color: #d4ebff;}#sk-container-id-2 div.sk-label input.sk-toggleable__control:checked~label.sk-toggleable__label {background-color: #d4ebff;}#sk-container-id-2 input.sk-hidden--visually {border: 0;clip: rect(1px 1px 1px 1px);clip: rect(1px, 1px, 1px, 1px);height: 1px;margin: -1px;overflow: hidden;padding: 0;position: absolute;width: 1px;}#sk-container-id-2 div.sk-estimator {font-family: monospace;background-color: #f0f8ff;border: 1px dotted black;border-radius: 0.25em;box-sizing: border-box;margin-bottom: 0.5em;}#sk-container-id-2 div.sk-estimator:hover {background-color: #d4ebff;}#sk-container-id-2 div.sk-parallel-item::after {content: \"\";width: 100%;border-bottom: 1px solid gray;flex-grow: 1;}#sk-container-id-2 div.sk-label:hover label.sk-toggleable__label {background-color: #d4ebff;}#sk-container-id-2 div.sk-serial::before {content: \"\";position: absolute;border-left: 1px solid gray;box-sizing: border-box;top: 0;bottom: 0;left: 50%;z-index: 0;}#sk-container-id-2 div.sk-serial {display: flex;flex-direction: column;align-items: center;background-color: white;padding-right: 0.2em;padding-left: 0.2em;position: relative;}#sk-container-id-2 div.sk-item {position: relative;z-index: 1;}#sk-container-id-2 div.sk-parallel {display: flex;align-items: stretch;justify-content: center;background-color: white;position: relative;}#sk-container-id-2 div.sk-item::before, #sk-container-id-2 div.sk-parallel-item::before {content: \"\";position: absolute;border-left: 1px solid gray;box-sizing: border-box;top: 0;bottom: 0;left: 50%;z-index: -1;}#sk-container-id-2 div.sk-parallel-item {display: flex;flex-direction: column;z-index: 1;position: relative;background-color: white;}#sk-container-id-2 div.sk-parallel-item:first-child::after {align-self: flex-end;width: 50%;}#sk-container-id-2 div.sk-parallel-item:last-child::after {align-self: flex-start;width: 50%;}#sk-container-id-2 div.sk-parallel-item:only-child::after {width: 0;}#sk-container-id-2 div.sk-dashed-wrapped {border: 1px dashed gray;margin: 0 0.4em 0.5em 0.4em;box-sizing: border-box;padding-bottom: 0.4em;background-color: white;}#sk-container-id-2 div.sk-label label {font-family: monospace;font-weight: bold;display: inline-block;line-height: 1.2em;}#sk-container-id-2 div.sk-label-container {text-align: center;}#sk-container-id-2 div.sk-container {/* jupyter's `normalize.less` sets `[hidden] { display: none; }` but bootstrap.min.css set `[hidden] { display: none !important; }` so we also need the `!important` here to be able to override the default hidden behavior on the sphinx rendered scikit-learn.org. See: https://github.com/scikit-learn/scikit-learn/issues/21755 */display: inline-block !important;position: relative;}#sk-container-id-2 div.sk-text-repr-fallback {display: none;}</style><div id=\"sk-container-id-2\" class=\"sk-top-container\"><div class=\"sk-text-repr-fallback\"><pre>MultinomialNB()</pre><b>In a Jupyter environment, please rerun this cell to show the HTML representation or trust the notebook. <br />On GitHub, the HTML representation is unable to render, please try loading this page with nbviewer.org.</b></div><div class=\"sk-container\" hidden><div class=\"sk-item\"><div class=\"sk-estimator sk-toggleable\"><input class=\"sk-toggleable__control sk-hidden--visually\" id=\"sk-estimator-id-2\" type=\"checkbox\" checked><label for=\"sk-estimator-id-2\" class=\"sk-toggleable__label sk-toggleable__label-arrow\">MultinomialNB</label><div class=\"sk-toggleable__content\"><pre>MultinomialNB()</pre></div></div></div></div></div>"
     },
     "execution_count": 12,
     "metadata": {},
     "output_type": "execute_result"
    }
   ],
   "source": [
    "classifier = MultinomialNB()\n",
    "classifier.fit(vec.transform(x_train), y_train)"
   ],
   "metadata": {
    "collapsed": false,
    "ExecuteTime": {
     "start_time": "2023-05-19T07:53:55.818681Z",
     "end_time": "2023-05-19T07:53:55.912679Z"
    }
   }
  },
  {
   "cell_type": "code",
   "execution_count": 13,
   "outputs": [
    {
     "name": "stdout",
     "output_type": "stream",
     "text": [
      "0.9386122775444911\n"
     ]
    }
   ],
   "source": [
    "#评估、计算 AUC 值\n",
    "print(classifier.score(vec.transform(x_test), y_test))"
   ],
   "metadata": {
    "collapsed": false,
    "ExecuteTime": {
     "start_time": "2023-05-19T07:53:55.912679Z",
     "end_time": "2023-05-19T07:53:55.956680Z"
    }
   }
  },
  {
   "cell_type": "code",
   "execution_count": 14,
   "outputs": [
    {
     "data": {
      "text/plain": "array([1, 1, 1, ..., 1, 1, 4])"
     },
     "execution_count": 14,
     "metadata": {},
     "output_type": "execute_result"
    }
   ],
   "source": [
    "# 进行测试集的预测：\n",
    "pre = classifier.predict(vec.transform(x_test))\n",
    "pre"
   ],
   "metadata": {
    "collapsed": false,
    "ExecuteTime": {
     "start_time": "2023-05-19T07:53:55.959679Z",
     "end_time": "2023-05-19T07:53:56.023679Z"
    }
   }
  },
  {
   "cell_type": "code",
   "execution_count": 15,
   "outputs": [
    {
     "data": {
      "text/plain": "array([[  47,    0,    0,    0,    0,    0,    0,    0,    0,    0,    0],\n       [   0, 3119,    0,    0,    0,    1,    0,    0,    0,    2,    0],\n       [   0,    0,  593,    0,    0,    0,    0,    0,    0,    0,    0],\n       [   0,    0,    0,  137,    0,    1,    0,    0,    0,    0,    0],\n       [   0,    0,    0,    0,  238,    0,    0,    1,    0,    0,    0],\n       [   0,    7,    0,    7,    0,   96,    5,    0,    0,    0,    0],\n       [   4,    0,    0,    0,    0,    1,   38,    0,    0,    0,    1],\n       [   0,    9,    0,    0,   79,    0,    0,   19,    0,    0,    0],\n       [   0,    0,    3,    0,   79,    0,    0,    0,    0,    0,    0],\n       [   0,   94,    0,    0,    0,    0,    0,    0,    0,  399,    0],\n       [   7,    0,    0,    0,    0,    0,    6,    0,    0,    0,    8]],\n      dtype=int64)"
     },
     "execution_count": 15,
     "metadata": {},
     "output_type": "execute_result"
    }
   ],
   "source": [
    "# 混淆矩阵\n",
    "# 真实标签\n",
    "y_true = y_test\n",
    "# 预测标签\n",
    "y_pred = classifier.predict(vec.transform(x_test)).tolist()\n",
    "c = confusion_matrix(y_true, y_pred)\n",
    "c"
   ],
   "metadata": {
    "collapsed": false,
    "ExecuteTime": {
     "start_time": "2023-05-19T07:53:55.991683Z",
     "end_time": "2023-05-19T07:53:56.023679Z"
    }
   }
  },
  {
   "cell_type": "code",
   "execution_count": 18,
   "outputs": [
    {
     "data": {
      "text/plain": "<Figure size 800x600 with 2 Axes>",
      "image/png": "[encoded data removed]"
     },
     "metadata": {},
     "output_type": "display_data"
    }
   ],
   "source": [
    "# 绘制热力图\n",
    "# fmt参数用于指定数值的格式\n",
    "# cmap参数用于指定颜色映射\n",
    "# annot参数用于指定是否在热力图中显示数值\n",
    "# 绘制热力图\n",
    "plt.figure(figsize=(8, 6))\n",
    "sns.heatmap(c, annot=True, cmap='summer', fmt='d', vmax=300)\n",
    "plt.xlabel('预测标签')\n",
    "plt.ylabel('真实标签')\n",
    "plt.show()"
   ],
   "metadata": {
    "collapsed": false,
    "ExecuteTime": {
     "start_time": "2023-05-19T08:19:50.354200Z",
     "end_time": "2023-05-19T08:19:50.800201Z"
    }
   }
  }
 ],
 "metadata": {
  "kernelspec": {
   "display_name": "Python 3",
   "language": "python",
   "name": "python3"
  },
  "language_info": {
   "codemirror_mode": {
    "name": "ipython",
    "version": 2
   },
   "file_extension": ".py",
   "mimetype": "text/x-python",
   "name": "python",
   "nbconvert_exporter": "python",
   "pygments_lexer": "ipython2",
   "version": "2.7.6"
  }
 },
 "nbformat": 4,
 "nbformat_minor": 0
}
